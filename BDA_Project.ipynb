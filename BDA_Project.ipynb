{
 "cells": [
  {
   "cell_type": "code",
   "execution_count": null,
   "metadata": {},
   "outputs": [],
   "source": [
    "# Import libraries\n",
    "import pandas as pd\n",
    "import json\n",
    "from pymongo import MongoClient\n",
    "import mysql.connector\n",
    "import time\n",
    "from sqlalchemy import create_engine,text"
   ]
  },
  {
   "cell_type": "code",
   "execution_count": null,
   "metadata": {},
   "outputs": [],
   "source": [
    "queries = [\n",
    "    {\"description\": \"Retrieve all questions that have a score greater than 300\", \"query\": \"\"},\n",
    "    \n",
    "    {\"description\": \"Retrieve all answers from 2008\", \"query\": \"\"},\n",
    "    \n",
    "    {\"description\": \"Retrive all questions that have 2 tags\", \"query\": \"\"},\n",
    "\n",
    "    {\"description\": \"Retrive all questions from 2015 about PDF that have more than 4 answers\", \"query\": \"\"}\n",
    "\n",
    "]"
   ]
  },
  {
   "cell_type": "code",
   "execution_count": null,
   "metadata": {},
   "outputs": [],
   "source": [
    "mongo_times = []\n",
    "for q in queries:\n",
    "    start_time = time.time()\n",
    "    \n",
    "    if \"score greater\" in q[\"description\"]:\n",
    "        query = {'score' : {'$gt' : 300}}\n",
    "        result = collection_stackoverflow.find(query)\n",
    "\n",
    "    elif \"answers from 2008\" in q[\"description\"]:\n",
    "        query = {'creationdate': {'$regex' : '^2008-.*'}}\n",
    "        result = collection_stackoverflow.find(query)\n",
    "\n",
    "    elif \"2 tags\" in q[\"description\"]:\n",
    "        query = {}\n",
    "        result = \n",
    "    else:\n",
    "        query = {}\n",
    "        result = \n",
    "        \n",
    "    end_time = time.time()\n",
    " \n",
    "    list_result = list(result)\n",
    "    mongo_times.append(end_time - start_time)\n",
    "    print(f\"{q['description']}: {len(list_result)} found in {end_time - start_time:.4f} seconds\")\n",
    "client.close()"
   ]
  },
  {
   "cell_type": "code",
   "execution_count": null,
   "metadata": {},
   "outputs": [],
   "source": [
    "mysql_times = []\n",
    "with engine.connect() as connection:\n",
    "    for q in queries:\n",
    "        start_time = time.time()\n",
    "        if \"score greater\" in q[\"description\"]:\n",
    "            result = connection.execute(text(\"SELECT title FROM questions WHERE score > 300\"))\n",
    "\n",
    "        elif \"answers from 2008\" in q[\"description\"]:\n",
    "            result = connection.execute(text(\"SELECT * FROM answers WHERE creationdate LIKE '2008%'\"))\n",
    "        \n",
    "        elif \"2 tags\" in q[\"description\"]:\n",
    "            result = connection.execute(text(\"(SELECT id FROM tags GROUP BY id HAVING COUNT(tag) = 2) AS t JOIN questions q ON t.id = q.id\"))\n",
    "            \n",
    "        else:\n",
    "            result = connection.execute(text(\"SELECT title FROM questions WHERE creationdate LIKE '2015%' AND title LIKE '%PDF%' AND (SELECT COUNT(*) FROM answers WHERE parentid = questions.id) > 4\")) #maybe we need a join to compare parentid to questions.id\n",
    "        results =  result.fetchall()\n",
    "        end_time = time.time()\n",
    "        mysql_times.append(end_time - start_time)\n",
    "        print(f\"{q['description']}: {len(results)} results found in {end_time - start_time:.4f} seconds\")"
   ]
  },
  {
   "cell_type": "code",
   "execution_count": null,
   "metadata": {},
   "outputs": [],
   "source": [
    "comparison_df = pd.DataFrame({\n",
    "    \"Query\": [q[\"description\"] for q in queries],\n",
    "    \"MongoDB_Time(s)\": mongo_times,\n",
    "    \"MySQL_Time(s)\": mysql_times\n",
    "})\n",
    "\n",
    "print(comparison_df)"
   ]
  }
 ],
 "metadata": {
  "language_info": {
   "name": "python"
  }
 },
 "nbformat": 4,
 "nbformat_minor": 2
}
