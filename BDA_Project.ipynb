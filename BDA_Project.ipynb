{
 "cells": [
  {
   "cell_type": "code",
   "execution_count": 3,
   "metadata": {},
   "outputs": [],
   "source": [
    "# Import libraries\n",
    "import pandas as pd\n",
    "import json\n",
    "from pymongo import MongoClient\n",
    "import mysql.connector\n",
    "import time\n",
    "from sqlalchemy import create_engine,text\n",
    "from datetime import date"
   ]
  },
  {
   "cell_type": "code",
   "execution_count": null,
   "metadata": {},
   "outputs": [],
   "source": [
    "df_answers = pd.read_csv(\"dataset/Answers.csv\", encoding=\"ISO-8859-1\")\n",
    "df_questions = pd.read_csv(\"dataset/Questions.csv\", encoding=\"ISO-8859-1\")\n",
    "df_tags = pd.read_csv(\"dataset/Tags.csv\", encoding=\"ISO-8859-1\")"
   ]
  },
  {
   "cell_type": "code",
   "execution_count": null,
   "metadata": {},
   "outputs": [],
   "source": [
    "df_questions['CreationDate'] = pd.to_datetime(df_questions['CreationDate'])\n",
    "df_answers['CreationDate'] = pd.to_datetime(df_answers['CreationDate'])"
   ]
  },
  {
   "cell_type": "code",
   "execution_count": null,
   "metadata": {},
   "outputs": [],
   "source": [
    "#limpeza\n",
    "df_questions = df_questions.dropna()\n",
    "df_questions['OwnerUserId'] = df_questions['OwnerUserId'].apply(int)\n",
    "df_questions['Title'] = df_questions['Title'].astype('string')\n",
    "df_questions['Body'] = df_questions['Body'].astype('string')"
   ]
  },
  {
   "cell_type": "code",
   "execution_count": null,
   "metadata": {},
   "outputs": [],
   "source": [
    "df_questions['year'] = df_questions['CreationDate'].dt.year\n",
    "df_questions['month'] = df_questions['CreationDate'].dt.month\n",
    "df_questions['day'] = df_questions['CreationDate'].dt.day\n",
    "df_questions['hour'] = df_questions['CreationDate'].dt.hour\n",
    "df_questions['minute'] = df_questions['CreationDate'].dt.minute\n",
    "df_questions['second'] = df_questions['CreationDate'].dt.second\n",
    "\n",
    "df_questions = df_questions.drop(columns=['CreationDate'])\n",
    "\n",
    "df_questions['Date1'] = df_questions[df_questions.columns[5:8]].apply(\n",
    "     lambda x: '/'.join(x.dropna().astype(str)),\n",
    "     axis=1\n",
    ")\n",
    "\n",
    "df_questions['Date2'] = df_questions[df_questions.columns[8:11]].apply(\n",
    "     lambda x: ':'.join(x.dropna().astype(str)),\n",
    "     axis=1\n",
    ")\n",
    "\n",
    "df_questions['CreationDate'] = df_questions[df_questions.columns[11:13]].apply(\n",
    "     lambda x: ' '.join(x.dropna().astype(str)),\n",
    "     axis=1\n",
    ")\n",
    "\n",
    "df_questions = df_questions.drop(columns=['year', 'month', 'day', 'hour', 'minute', 'second', 'Date1', 'Date2'])"
   ]
  },
  {
   "cell_type": "code",
   "execution_count": null,
   "metadata": {},
   "outputs": [
    {
     "ename": "NameError",
     "evalue": "name 'df_questions' is not defined",
     "output_type": "error",
     "traceback": [
      "\u001b[1;31m---------------------------------------------------------------------------\u001b[0m",
      "\u001b[1;31mNameError\u001b[0m                                 Traceback (most recent call last)",
      "Cell \u001b[1;32mIn[4], line 33\u001b[0m\n\u001b[0;32m     30\u001b[0m         \u001b[38;5;28mprint\u001b[39m(\u001b[38;5;124mf\u001b[39m\u001b[38;5;124m\"\u001b[39m\u001b[38;5;132;01m{\u001b[39;00mvalid_count\u001b[38;5;132;01m}\u001b[39;00m\u001b[38;5;124m documents inserted\u001b[39m\u001b[38;5;124m\"\u001b[39m)\n\u001b[0;32m     31\u001b[0m         \u001b[38;5;28mprint\u001b[39m(\u001b[38;5;124mf\u001b[39m\u001b[38;5;124m\"\u001b[39m\u001b[38;5;132;01m{\u001b[39;00mattempted_count\u001b[38;5;250m \u001b[39m\u001b[38;5;241m-\u001b[39m\u001b[38;5;250m \u001b[39mvalid_count\u001b[38;5;132;01m}\u001b[39;00m\u001b[38;5;124m documents failed to insert\u001b[39m\u001b[38;5;124m\"\u001b[39m)\n\u001b[1;32m---> 33\u001b[0m insert_into_mongo(df_questions, collection_questions)\n\u001b[0;32m     34\u001b[0m insert_into_mongo(df_answers, collection_answers)\n\u001b[0;32m     35\u001b[0m insert_into_mongo(df_tags, collection_tags)\n",
      "\u001b[1;31mNameError\u001b[0m: name 'df_questions' is not defined"
     ]
    }
   ],
   "source": [
    "# Setting MongoDB database\n",
    "\n",
    "# Connect to MongoDB\n",
    "client = MongoClient(\"mongodb://localhost:27017\")\n",
    "\n",
    "# Drop and create database\n",
    "client.drop_database(\"stackoverflow\")\n",
    "db = client['stackoverflow']\n",
    "\n",
    "# Drop and create collections\n",
    "db['Questions'].drop()\n",
    "db['Answers'].drop()\n",
    "db['Tags'].drop()\n",
    "collection_questions = db['Questions']\n",
    "collection_answers = db['Answers']\n",
    "collection_tags = db['Tags']\n",
    "\n",
    "# Function to insert data into MongoDB\n",
    "def insert_into_mongo(df, collection):\n",
    "    initial_count = collection.count_documents({})\n",
    "    print(f\"# documents: {initial_count}\") \n",
    "    try:\n",
    "        data_dict = df.to_dict(orient=\"records\")\n",
    "        collection.insert_many(data_dict)\n",
    "        valid_count = collection.count_documents({}) - initial_count\n",
    "        print(f\"{valid_count} documents inserted.\")\n",
    "    except Exception as e:\n",
    "        attempted_count = len(data_dict)\n",
    "        valid_count = collection.count_documents({}) - initial_count\n",
    "        print(f\"{valid_count} documents inserted\")\n",
    "        print(f\"{attempted_count - valid_count} documents failed to insert\")\n",
    "\n",
    "insert_into_mongo(df_questions, collection_questions)\n",
    "insert_into_mongo(df_answers, collection_answers)\n",
    "insert_into_mongo(df_tags, collection_tags)"
   ]
  },
  {
   "cell_type": "code",
   "execution_count": null,
   "metadata": {},
   "outputs": [],
   "source": [
    "# Setting MySQL Database\n",
    "mydb = mysql.connector.connect(\n",
    "    host=\"localhost\",\n",
    "    user=\"root\",\n",
    "    password = '!Leandro02#',\n",
    "    database = \"stackoverflow\"\n",
    ")\n",
    "print(mydb)\n",
    "\n",
    "mycursor = mydb.cursor()\n",
    "\n",
    "#Creating Table\n",
    "mycursor.execute(\"CREATE TABLE questions (id INT AUTO_INCREMENT PRIMARY KEY, OwnerUserId INT, CreationDate VARCHAR(255), score INT, title VARCHAR(255), body VARCHAR(255))\")\n",
    "mycursor.execute(\"CREATE TABLE answers (id INT AUTO_INCREMENT PRIMARY KEY, OwnerUserId INT, CreationDate VARCHAR(255), parentid INT, score INT, body VARCHAR(255)) foreign key(parentid) references questions(id)\")\n",
    "mycursor.execute(\"CREATE TABLE tags (tag VARCHAR(255) PRIMARY KEY)\")\n",
    "mycursor.execute(\"CREATE TABLE taglink (id INT, tag VARCHAR(255)) foreign key(id) references questions(id) foreign key(tag) references tags(tag)\")\n",
    "\n",
    "# Check if Table Exists\n",
    "mycursor.execute(\"SHOW TABLES\")\n",
    "for x in mycursor:\n",
    "    print(x)"
   ]
  },
  {
   "cell_type": "code",
   "execution_count": null,
   "metadata": {},
   "outputs": [],
   "source": [
    "queries = [\n",
    "    {\"description\": \"Retrieve all questions that have a score greater than 300\", \"query\": \"\"},\n",
    "    \n",
    "    {\"description\": \"Retrieve all answers from 2008\", \"query\": \"\"},\n",
    "    \n",
    "    {\"description\": \"Retrive all questions that have 2 tags\", \"query\": \"\"},\n",
    "\n",
    "    {\"description\": \"Retrive all questions from 2015 about PDF that have more than 4 answers\", \"query\": \"\"}\n",
    "\n",
    "]"
   ]
  },
  {
   "cell_type": "code",
   "execution_count": null,
   "metadata": {},
   "outputs": [],
   "source": [
    "mongo_times = []\n",
    "for q in queries:\n",
    "    start_time = time.time()\n",
    "    \n",
    "    if \"score greater\" in q[\"description\"]:\n",
    "        query = {'score' : {'$gt' : 300}}\n",
    "        result = collection_questions.find(query)\n",
    "\n",
    "    elif \"answers from 2008\" in q[\"description\"]:\n",
    "        query = {'creationdate': {'$regex' : '^2008-.*'}}\n",
    "        result = collection_answers.find(query)\n",
    "\n",
    "    elif \"2 tags\" in q[\"description\"]:\n",
    "        query = {}\n",
    "        result = \n",
    "    else:\n",
    "        query = {}\n",
    "        result = \n",
    "        \n",
    "    end_time = time.time()\n",
    " \n",
    "    list_result = list(result)\n",
    "    mongo_times.append(end_time - start_time)\n",
    "    print(f\"{q['description']}: {len(list_result)} found in {end_time - start_time:.4f} seconds\")\n",
    "client.close()"
   ]
  },
  {
   "cell_type": "code",
   "execution_count": null,
   "metadata": {},
   "outputs": [],
   "source": [
    "mysql_times = []\n",
    "with engine.connect() as connection:\n",
    "    for q in queries:\n",
    "        start_time = time.time()\n",
    "        if \"score greater\" in q[\"description\"]:\n",
    "            result = connection.execute(text(\"SELECT title FROM questions WHERE score > 300\"))\n",
    "\n",
    "        elif \"answers from 2008\" in q[\"description\"]:\n",
    "            result = connection.execute(text(\"SELECT * FROM answers WHERE creationdate LIKE '2008%'\"))\n",
    "        \n",
    "        elif \"2 tags\" in q[\"description\"]:\n",
    "            result = connection.execute(text(\"(SELECT id FROM tags GROUP BY id HAVING COUNT(tag) = 2) AS t JOIN questions q ON t.id = q.id\"))\n",
    "            \n",
    "        else:\n",
    "            result = connection.execute(text(\"SELECT title FROM questions WHERE creationdate LIKE '2015%' AND title LIKE '%PDF%' AND (SELECT COUNT(*) FROM answers WHERE parentid = questions.id) > 4\")) #maybe we need a join to compare parentid to questions.id\n",
    "        results =  result.fetchall()\n",
    "        end_time = time.time()\n",
    "        mysql_times.append(end_time - start_time)\n",
    "        print(f\"{q['description']}: {len(results)} results found in {end_time - start_time:.4f} seconds\")"
   ]
  },
  {
   "cell_type": "code",
   "execution_count": null,
   "metadata": {},
   "outputs": [],
   "source": [
    "comparison_df = pd.DataFrame({\n",
    "    \"Query\": [q[\"description\"] for q in queries],\n",
    "    \"MongoDB_Time(s)\": mongo_times,\n",
    "    \"MySQL_Time(s)\": mysql_times\n",
    "})\n",
    "\n",
    "print(comparison_df)"
   ]
  },
  {
   "cell_type": "code",
   "execution_count": null,
   "metadata": {},
   "outputs": [],
   "source": []
  }
 ],
 "metadata": {
  "kernelspec": {
   "display_name": "base",
   "language": "python",
   "name": "python3"
  },
  "language_info": {
   "codemirror_mode": {
    "name": "ipython",
    "version": 3
   },
   "file_extension": ".py",
   "mimetype": "text/x-python",
   "name": "python",
   "nbconvert_exporter": "python",
   "pygments_lexer": "ipython3",
   "version": "3.12.3"
  }
 },
 "nbformat": 4,
 "nbformat_minor": 4
}
